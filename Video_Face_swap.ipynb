{
  "nbformat": 4,
  "nbformat_minor": 0,
  "metadata": {
    "colab": {
      "provenance": []
    },
    "kernelspec": {
      "name": "python3",
      "display_name": "Python 3"
    },
    "language_info": {
      "name": "python"
    }
  },
  "cells": [
    {
      "cell_type": "markdown",
      "source": [
        "# Import drive"
      ],
      "metadata": {
        "id": "XKnjT-dPIb8X"
      }
    },
    {
      "cell_type": "code",
      "source": [
        "from google.colab import drive\n",
        "drive.mount('/content/drive')\n",
        "BASE = \"/content/drive/MyDrive/ffpp_data\"\n"
      ],
      "metadata": {
        "colab": {
          "base_uri": "https://localhost:8080/"
        },
        "id": "Fwkbl6n2IZiM",
        "outputId": "2fedeb4f-1e56-4c25-c0a7-8daccbc22219"
      },
      "execution_count": 8,
      "outputs": [
        {
          "output_type": "stream",
          "name": "stdout",
          "text": [
            "Mounted at /content/drive\n"
          ]
        }
      ]
    },
    {
      "cell_type": "markdown",
      "source": [
        "# Environnement"
      ],
      "metadata": {
        "id": "sV0otWHmImIs"
      }
    },
    {
      "cell_type": "code",
      "source": [
        "import os, sys, textwrap\n",
        "BASE = globals().get(\"BASE\", \"/content/ffpp_data\")\n",
        "os.makedirs(BASE, exist_ok=True)\n",
        "!python --version\n",
        "!pip -q install tqdm\n"
      ],
      "metadata": {
        "colab": {
          "base_uri": "https://localhost:8080/"
        },
        "id": "390yExfjIo3C",
        "outputId": "5808bc1a-c889-4733-f68f-9355378130cb"
      },
      "execution_count": 9,
      "outputs": [
        {
          "output_type": "stream",
          "name": "stdout",
          "text": [
            "Python 3.12.12\n"
          ]
        }
      ]
    },
    {
      "cell_type": "markdown",
      "source": [
        "# Script de téléchargement"
      ],
      "metadata": {
        "id": "_ZLxKfc4IrHI"
      }
    },
    {
      "cell_type": "code",
      "source": [
        "# (1) Dépendance utile pour la barre de progression\n",
        "!pip -q install tqdm\n",
        "\n",
        "# (2) Écrire le script dans /content/download_ffpp.py\n",
        "script = \"\"\"#!/usr/bin/env python\n",
        "# -*- coding: utf-8 -*-\n",
        "# Downloads FaceForensics++ and Deep Fake Detection public data release\n",
        "# Example usage:\n",
        "#   see -h or https://github.com/ondyari/FaceForensics\n",
        "\n",
        "import argparse\n",
        "import os\n",
        "import urllib\n",
        "import urllib.request\n",
        "import tempfile\n",
        "import time\n",
        "import sys\n",
        "import json\n",
        "import random\n",
        "from tqdm import tqdm\n",
        "from os.path import join\n",
        "\n",
        "# URLs and filenames\n",
        "FILELIST_URL = 'misc/filelist.json'\n",
        "DEEPFEAKES_DETECTION_URL = 'misc/deepfake_detection_filenames.json'\n",
        "DEEPFAKES_MODEL_NAMES = ['decoder_A.h5', 'decoder_B.h5', 'encoder.h5',]\n",
        "\n",
        "# Parameters\n",
        "DATASETS = {\n",
        "    'original_youtube_videos': 'misc/downloaded_youtube_videos.zip',\n",
        "    'original_youtube_videos_info': 'misc/downloaded_youtube_videos_info.zip',\n",
        "    'original': 'original_sequences/youtube',\n",
        "    'DeepFakeDetection_original': 'original_sequences/actors',\n",
        "    'Deepfakes': 'manipulated_sequences/Deepfakes',\n",
        "    'DeepFakeDetection': 'manipulated_sequences/DeepFakeDetection',\n",
        "    'Face2Face': 'manipulated_sequences/Face2Face',\n",
        "    'FaceShifter': 'manipulated_sequences/FaceShifter',\n",
        "    'FaceSwap': 'manipulated_sequences/FaceSwap',\n",
        "    'NeuralTextures': 'manipulated_sequences/NeuralTextures'\n",
        "}\n",
        "ALL_DATASETS = ['original', 'DeepFakeDetection_original', 'Deepfakes',\n",
        "                'DeepFakeDetection', 'Face2Face', 'FaceShifter', 'FaceSwap',\n",
        "                'NeuralTextures']\n",
        "COMPRESSION = ['raw', 'c23', 'c40']\n",
        "TYPE = ['videos', 'masks', 'models']\n",
        "SERVERS = ['EU', 'EU2', 'CA']\n",
        "\n",
        "def parse_args():\n",
        "    parser = argparse.ArgumentParser(\n",
        "        description='Downloads FaceForensics v2 public data release.',\n",
        "        formatter_class=argparse.ArgumentDefaultsHelpFormatter\n",
        "    )\n",
        "    parser.add_argument('output_path', type=str, help='Output directory.')\n",
        "    parser.add_argument('-d', '--dataset', type=str, default='all',\n",
        "                        choices=list(DATASETS.keys()) + ['all'],\n",
        "                        help='Which dataset to download.')\n",
        "    parser.add_argument('-c', '--compression', type=str, default='raw',\n",
        "                        choices=COMPRESSION,\n",
        "                        help='Compression (raw/c23/c40).')\n",
        "    parser.add_argument('-t', '--type', type=str, default='videos',\n",
        "                        choices=TYPE,\n",
        "                        help='File type to download (videos/masks/models).')\n",
        "    parser.add_argument('-n', '--num_videos', type=int, default=None,\n",
        "                        help='Limit to first N videos.')\n",
        "    parser.add_argument('--server', type=str, default='EU',\n",
        "                        choices=SERVERS,\n",
        "                        help='Mirror server.')\n",
        "    args = parser.parse_args()\n",
        "\n",
        "    # URLs\n",
        "    server = args.server\n",
        "    if server == 'EU':\n",
        "        server_url = 'http://canis.vc.in.tum.de:8100/'\n",
        "    elif server == 'EU2':\n",
        "        server_url = 'http://kaldir.vc.in.tum.de/faceforensics/'\n",
        "    elif server == 'CA':\n",
        "        server_url = 'http://falas.cmpt.sfu.ca:8100/'\n",
        "    else:\n",
        "        raise Exception('Wrong server name. Choices: {}'.format(str(SERVERS)))\n",
        "    args.tos_url = server_url + 'webpage/FaceForensics_TOS.pdf'\n",
        "    args.base_url = server_url + 'v3/'\n",
        "    args.deepfakes_model_url = args.base_url + 'manipulated_sequences/Deepfakes/models/'\n",
        "    return args\n",
        "\n",
        "def download_files(filenames, base_url, output_path, report_progress=True):\n",
        "    os.makedirs(output_path, exist_ok=True)\n",
        "    itr = tqdm(filenames) if report_progress else filenames\n",
        "    for filename in itr:\n",
        "        download_file(base_url + filename, join(output_path, filename))\n",
        "\n",
        "def reporthook(count, block_size, total_size):\n",
        "    global start_time\n",
        "    if count == 0:\n",
        "        start_time = time.time()\n",
        "        return\n",
        "    duration = time.time() - start_time\n",
        "    progress_size = int(count * block_size)\n",
        "    speed = int(progress_size / (1024 * duration)) if duration > 0 else 0\n",
        "    percent = int(count * block_size * 100 / total_size) if total_size else 0\n",
        "    sys.stdout.write(\"\\\\rProgress: %d%%, %d MB, %d KB/s, %d seconds passed\"\n",
        "                     % (percent, progress_size // (1024*1024), speed, duration))\n",
        "    sys.stdout.flush()\n",
        "\n",
        "def download_file(url, out_file, report_progress=False):\n",
        "    out_dir = os.path.dirname(out_file)\n",
        "    os.makedirs(out_dir, exist_ok=True)\n",
        "    if not os.path.isfile(out_file):\n",
        "        fh, out_file_tmp = tempfile.mkstemp(dir=out_dir)\n",
        "        os.close(fh)\n",
        "        if report_progress:\n",
        "            urllib.request.urlretrieve(url, out_file_tmp, reporthook=reporthook)\n",
        "        else:\n",
        "            urllib.request.urlretrieve(url, out_file_tmp)\n",
        "        os.rename(out_file_tmp, out_file)\n",
        "    else:\n",
        "        tqdm.write('WARNING: skipping download of existing file ' + out_file)\n",
        "\n",
        "def main(args):\n",
        "    print('By pressing Enter you confirm that you have agreed to the FaceForensics terms of use at:')\n",
        "    print(args.tos_url)\n",
        "    print('***')\n",
        "    print('Press Enter to continue, or CTRL-C to exit.')\n",
        "    _ = input('')\n",
        "\n",
        "    c_datasets = [args.dataset] if args.dataset != 'all' else ALL_DATASETS\n",
        "    c_type = args.type\n",
        "    c_compression = args.compression\n",
        "    num_videos = args.num_videos\n",
        "    output_path = args.output_path\n",
        "    os.makedirs(output_path, exist_ok=True)\n",
        "\n",
        "    for dataset in c_datasets:\n",
        "        dataset_path = DATASETS[dataset]\n",
        "\n",
        "        if 'original_youtube_videos' in dataset:\n",
        "            print('Downloading original youtube videos.')\n",
        "            suffix = '' if 'info' not in dataset_path else 'info'\n",
        "            download_file(args.base_url + '/' + dataset_path,\n",
        "                          out_file=join(output_path, 'downloaded_videos%s.zip' % suffix),\n",
        "                          report_progress=True)\n",
        "            return\n",
        "\n",
        "        print('Downloading {} of dataset \"{}\"'.format(c_type, dataset_path))\n",
        "\n",
        "        # Build file list\n",
        "        if 'DeepFakeDetection' in dataset_path or 'actors' in dataset_path:\n",
        "            filepaths = json.loads(urllib.request.urlopen(args.base_url + '/' + DEEPFEAKES_DETECTION_URL).read().decode('utf-8'))\n",
        "            filelist = filepaths['actors'] if 'actors' in dataset_path else filepaths['DeepFakesDetection']\n",
        "        else:\n",
        "            file_pairs = json.loads(urllib.request.urlopen(args.base_url + '/' + FILELIST_URL).read().decode('utf-8'))\n",
        "            if 'original' in dataset_path:\n",
        "                filelist = []\n",
        "                for pair in file_pairs:\n",
        "                    filelist += pair\n",
        "            else:\n",
        "                filelist = []\n",
        "                for pair in file_pairs:\n",
        "                    filelist.append('_'.join(pair))\n",
        "                    if c_type != 'models':\n",
        "                        filelist.append('_'.join(pair[::-1]))\n",
        "\n",
        "        if num_videos is not None and num_videos > 0:\n",
        "            print('Downloading the first {} videos'.format(num_videos))\n",
        "            filelist = filelist[:num_videos]\n",
        "\n",
        "        dataset_videos_url = args.base_url + '{}/{}/{}/'.format(dataset_path, c_compression, c_type)\n",
        "        dataset_mask_url = args.base_url + '{}/{}/videos/'.format(dataset_path, 'masks')\n",
        "\n",
        "        if c_type == 'videos':\n",
        "            dataset_output_path = join(output_path, dataset_path, c_compression, c_type)\n",
        "            print('Output path: {}'.format(dataset_output_path))\n",
        "            filelist = [f + '.mp4' for f in filelist]\n",
        "            download_files(filelist, dataset_videos_url, dataset_output_path)\n",
        "        elif c_type == 'masks':\n",
        "            if 'original' in dataset:\n",
        "                print('Only videos available for original data. Skipping original masks.')\n",
        "                continue\n",
        "            if 'FaceShifter' in dataset:\n",
        "                print('Masks not available for FaceShifter. Aborting.')\n",
        "                return\n",
        "            dataset_output_path = join(output_path, dataset_path, c_type, 'videos')\n",
        "            print('Output path: {}'.format(dataset_output_path))\n",
        "            filelist = [f + '.mp4' for f in filelist]\n",
        "            download_files(filelist, dataset_mask_url, dataset_output_path)\n",
        "        else:\n",
        "            if dataset != 'Deepfakes' and c_type == 'models':\n",
        "                print('Models only available for Deepfakes. Aborting.')\n",
        "                return\n",
        "            dataset_output_path = join(output_path, dataset_path, c_type)\n",
        "            print('Output path: {}'.format(dataset_output_path))\n",
        "            for folder in tqdm(filelist):\n",
        "                folder_filelist = DEEPFAKES_MODEL_NAMES\n",
        "                folder_base_url = args.deepfakes_model_url + folder + '/'\n",
        "                folder_dataset_output_path = join(dataset_output_path, folder)\n",
        "                download_files(folder_filelist, folder_base_url, folder_dataset_output_path, report_progress=False)\n",
        "\n",
        "if __name__ == '__main__':\n",
        "    args = parse_args()\n",
        "    main(args)\n",
        "\"\"\"\n",
        "\n",
        "with open(\"/content/download_ffpp.py\", \"w\", encoding=\"utf-8\") as f:\n",
        "    f.write(script)\n",
        "\n",
        "!chmod +x /content/download_ffpp.py\n"
      ],
      "metadata": {
        "id": "Zwh72LvUIuad"
      },
      "execution_count": 10,
      "outputs": []
    },
    {
      "cell_type": "markdown",
      "source": [
        "3 vidéos originales"
      ],
      "metadata": {
        "id": "eahg8Hf3I2Qu"
      }
    },
    {
      "cell_type": "code",
      "source": [
        "!python /content/download_ffpp.py \"$BASE\" -d original -c c23 -t videos -n 3 --server EU2\n"
      ],
      "metadata": {
        "colab": {
          "base_uri": "https://localhost:8080/"
        },
        "id": "UKOJz2hbI6K4",
        "outputId": "cf4516c5-d647-4fa7-9f19-e4aa83d47820"
      },
      "execution_count": 12,
      "outputs": [
        {
          "output_type": "stream",
          "name": "stdout",
          "text": [
            "By pressing Enter you confirm that you have agreed to the FaceForensics terms of use at:\n",
            "http://kaldir.vc.in.tum.de/faceforensics/webpage/FaceForensics_TOS.pdf\n",
            "***\n",
            "Press Enter to continue, or CTRL-C to exit.\n",
            "\n",
            "Downloading videos of dataset \"original_sequences/youtube\"\n",
            "Downloading the first 3 videos\n",
            "Output path: /content/drive/MyDrive/ffpp_data/original_sequences/youtube/c23/videos\n",
            "100% 3/3 [00:03<00:00,  1.14s/it]\n"
          ]
        }
      ]
    },
    {
      "cell_type": "markdown",
      "source": [
        "2 vidéos actors"
      ],
      "metadata": {
        "id": "ZXWbQUXVI7Rq"
      }
    },
    {
      "cell_type": "code",
      "source": [
        "!python /content/download_ffpp.py \"$BASE\" -d DeepFakeDetection_original -c c23 -t videos -n 2\n"
      ],
      "metadata": {
        "id": "Ge7d7c4PI_7g"
      },
      "execution_count": 7,
      "outputs": []
    },
    {
      "cell_type": "markdown",
      "source": [
        "# Vérifier ou les fichiers ont été écrit"
      ],
      "metadata": {
        "id": "3HJN7iX_JC6M"
      }
    },
    {
      "cell_type": "code",
      "source": [
        "import subprocess, shlex, os\n",
        "for p in [\n",
        "  f\"{BASE}/original_sequences/youtube/c23/videos\",\n",
        "  f\"{BASE}/manipulated_sequences/FaceSwap/c23/videos\",\n",
        "  f\"{BASE}/original_sequences/actors/c23/videos\",\n",
        "]:\n",
        "    if os.path.isdir(p):\n",
        "        print(\"==>\", p)\n",
        "        print(subprocess.getoutput(shlex.split(f\"ls -lh {p} | head -n 10\")))\n"
      ],
      "metadata": {
        "colab": {
          "base_uri": "https://localhost:8080/"
        },
        "id": "DFGAqLgPJFMy",
        "outputId": "87cf275e-3ed4-4cc1-84f4-f274b58b4422"
      },
      "execution_count": 13,
      "outputs": [
        {
          "output_type": "stream",
          "name": "stdout",
          "text": [
            "==> /content/drive/MyDrive/ffpp_data/original_sequences/youtube/c23/videos\n",
            "download_ffpp.py\n",
            "drive\n",
            "ffpp_data\n",
            "sample_data\n"
          ]
        }
      ]
    }
  ]
}